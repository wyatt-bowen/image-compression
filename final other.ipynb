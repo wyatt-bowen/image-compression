{
 "cells": [
  {
   "cell_type": "markdown",
   "metadata": {
    "colab_type": "text",
    "id": "1aPshrzKvAlN"
   },
   "source": [
    "# Image Posterization using K-means Clustering Algorithm"
   ]
  },
  {
   "cell_type": "code",
   "execution_count": null,
   "metadata": {},
   "outputs": [],
   "source": [
    "#import PIL as pil\n",
    "from PIL import Image\n",
    "from skimage import io\n",
    "import numpy as np\n",
    "import pandas as pd\n",
    "import random\n",
    "import matplotlib.pyplot as plt\n",
    "%matplotlib inline\n",
    "import seaborn as sns\n",
    "import sklearn\n",
    "from sklearn.preprocessing import StandardScaler\n",
    "from sklearn.cluster import KMeans\n",
    "from sklearn import metrics\n",
    "from sklearn.cluster import AgglomerativeClustering\n",
    "import joblib\n",
    "import time\n",
    "import os \n"
   ]
  },
  {
   "cell_type": "markdown",
   "metadata": {},
   "source": [
    "Image compression will be in a method that takes an image and a percentage of pixels to sample. The outputs will be the k selected and the compressed image."
   ]
  },
  {
   "cell_type": "code",
   "execution_count": null,
   "metadata": {},
   "outputs": [],
   "source": [
    "def smartPost(oldImage, k, percentage, fileName):\n",
    "    image = oldImage\n",
    "    pixels = image.load()\n",
    "\n",
    "    random.seed(a=100)\n",
    "    #k = 100   #we would have a loop and iterate k\n",
    "\n",
    "    skip = int(1 / np.sqrt(percentage))\n",
    "    count = 0\n",
    "    size = np.ceil(image.size[0] / skip) * np.ceil(image.size[1] / skip)\n",
    "    df_pixels = pd.DataFrame(columns=list('RGB'), index = np.arange(size))\n",
    "\n",
    "    timeBeforeSample = time.time()\n",
    "    for i in range(0, image.size[0], skip):\n",
    "        for j in range(0, image.size[1], skip):\n",
    "            i_ = i + random.randint(-3,3)\n",
    "            if i_>=image.size[0]:\n",
    "                i_ = image.size[0] - 1\n",
    "            if i_<0:\n",
    "                i_ = 0\n",
    "            j_ = j + random.randint(-3,3)\n",
    "            if j_>=image.size[1]:\n",
    "                j_ = image.size[1] - 1\n",
    "            if j_<0:\n",
    "                j_ = 0\n",
    "                \n",
    "            df_pixels.iloc[[count]] = [[pixels[i_,j_][0], pixels[i_,j_][1], pixels[i_,j_][2]]]\n",
    "            count = count + 1\n",
    "    timeAfterSample = time.time()\n",
    "    sampleTime = timeAfterSample - timeBeforeSample\n",
    "    kmeans = KMeans(n_clusters=k, random_state=1, n_init=1) #k\n",
    "    kmeans.fit(df_pixels) #run on df_pixels\n",
    "    \n",
    "    timeAfterKmeansFit = time.time()\n",
    "\n",
    "    KMeansTime = timeAfterKmeansFit - timeAfterSample\n",
    "\n",
    "    joblib.dump(kmeans, 'kmeans.pkl')\n",
    "    kmeans_loaded = joblib.load('kmeans.pkl')\n",
    "    kmeans_loaded\n",
    "\n",
    "    timeAfterPickle = time.time()\n",
    "    PickleTime = timeAfterPickle - timeAfterKmeansFit\n",
    "\n",
    "\n",
    "\n",
    "    for i in range(0, image.size[0]):\n",
    "        for j in range(0, image.size[1]):\n",
    "            predicted = kmeans_loaded.predict([[pixels[i,j][0], pixels[i,j][1], pixels[i,j][2]]])\n",
    "            pixels[i,j] = (round(kmeans.cluster_centers_[predicted][0][0]), round(kmeans.cluster_centers_[predicted][0][1]), round(kmeans.cluster_centers_[predicted][0][2]))\n",
    "            #pixels[i,j] = (0,0,0)\n",
    "\n",
    "    timeAfterCompression = time.time()\n",
    "    CompressionTime = timeAfterCompression - timeAfterPickle\n",
    "\n",
    "    saveLocation = fileName.replace(\"Inputs\",\"Outputs\")\n",
    "\n",
    "    image.save(saveLocation, format=\"png\")\n",
    "\n",
    "    timeAfterSave = time.time()\n",
    "    SaveTime = timeAfterSave - timeAfterCompression\n",
    "    return sampleTime, KMeansTime, PickleTime, CompressionTime, SaveTime"
   ]
  },
  {
   "cell_type": "code",
   "execution_count": null,
   "metadata": {},
   "outputs": [],
   "source": [
    "#percentage = 0.02\n",
    "#\n",
    "#currDir = 'Inputs/Explorations' \n",
    "#distortions = []\n",
    "#for filename in os.listdir(currDir):\n",
    "#    if filename.endswith(\".png\"):\n",
    "#        currImg = Image.open(str(currDir)+'/'+str(filename))\n",
    "#        for k in range(2,20):\n",
    "#            distortions.append(smartPost(currImg, k, percentage, str(currDir)+'/'+str(filename)))\n",
    "#\n",
    "#graph = plt.figure(figsize=(15,5))\n",
    "#graph.plot(range(2,20), distortions)\n",
    "#graph.title('Elbow Curve')"
   ]
  },
  {
   "cell_type": "code",
   "execution_count": null,
   "metadata": {},
   "outputs": [],
   "source": [
    "percentage = 0.01\n",
    "k=1 #remove later\n",
    "\n",
    "currDir = 'Inputs/Landscapes' \n",
    "for filename in os.listdir(currDir):\n",
    "   if filename.endswith(\".png\"):\n",
    "       currImg = Image.open(str(currDir)+'/'+str(filename))\n",
    "       t0, t1, t2, t3 ,t4 = smartPost(currImg, k, percentage, str(currDir)+'/'+str(filename))\n",
    "\n",
    "print('t0, t1, t2, t3, t4 ' +str(t0)+' '+str(t1)+' '+str(t2)+' '+str(t3)+' '+str(t4)+'\\n')\n",
    "\n",
    "#percentage = 1\n",
    "#k=100 #remove later\n",
    "\n",
    "currDir = 'Inputs/Animals' \n",
    "for filename in os.listdir(currDir):\n",
    "   if filename.endswith(\".png\"):\n",
    "       currImg = Image.open(str(currDir)+'/'+str(filename))\n",
    "       t0, t1, t2, t3 ,t4 = smartPost(currImg, k, percentage, str(currDir)+'/'+str(filename))\n",
    "\n",
    "print('t0, t1, t2, t3, t4 ' +str(t0)+' '+str(t1)+' '+str(t2)+' '+str(t3)+' '+str(t4)+'\\n')\n",
    "\n",
    "percentage = 0.10\n",
    "k=10 #remove later\n",
    "\n",
    "currDir = 'Inputs/Cars' \n",
    "for filename in os.listdir(currDir):\n",
    "    if filename.endswith(\".png\"):\n",
    "        currImg = Image.open(str(currDir)+'/'+str(filename))\n",
    "        t0, t1, t2, t3 ,t4 = smartPost(currImg, k, percentage, str(currDir)+'/'+str(filename))\n",
    "\n",
    "print('t0, t1, t2, t3, t4 ' +str(t0)+' '+str(t1)+' '+str(t2)+' '+str(t3)+' '+str(t4)+'\\n')"
   ]
  }
 ],
 "metadata": {
  "colab": {
   "name": "3C. Retrieval Practice and Learning.ipynb",
   "provenance": []
  },
  "kernelspec": {
   "display_name": "Python 3",
   "language": "python",
   "name": "python3"
  },
  "language_info": {
   "codemirror_mode": {
    "name": "ipython",
    "version": 3
   },
   "file_extension": ".py",
   "mimetype": "text/x-python",
   "name": "python",
   "nbconvert_exporter": "python",
   "pygments_lexer": "ipython3",
   "version": "3.8.8"
  }
 },
 "nbformat": 4,
 "nbformat_minor": 4
}
