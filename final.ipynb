{
 "cells": [
  {
   "cell_type": "markdown",
   "metadata": {
    "colab_type": "text",
    "id": "1aPshrzKvAlN"
   },
   "source": [
    "# Image Posterization using K-means Clustering Algorithm"
   ]
  },
  {
   "cell_type": "code",
   "execution_count": 6,
   "metadata": {},
   "outputs": [],
   "source": [
    "#import PIL as pil\n",
    "from PIL import Image\n",
    "from skimage import io\n",
    "import numpy as np\n",
    "import pandas as pd\n",
    "import random\n",
    "import matplotlib.pyplot as plt\n",
    "%matplotlib inline\n",
    "import seaborn as sns\n",
    "import sklearn\n",
    "from sklearn.preprocessing import StandardScaler\n",
    "from sklearn.cluster import KMeans\n",
    "from scipy.cluster.vq import kmeans,vq\n",
    "from scipy.spatial.distance import cdist\n",
    "from sklearn import metrics\n",
    "from sklearn.cluster import AgglomerativeClustering\n",
    "import joblib\n",
    "import os "
   ]
  },
  {
   "cell_type": "markdown",
   "metadata": {},
   "source": [
    "Image compression will be in a method that takes an image and a percentage of pixels to sample. The outputs will be the k selected and the compressed image."
   ]
  },
  {
   "cell_type": "code",
   "execution_count": 7,
   "metadata": {},
   "outputs": [],
   "source": [
    "#How to decide which pixels are selected:\n",
    "#If the number of pixels to be sampled is 100*k, then divide the number of pixels in the image by that value. Call\n",
    "#the result n. Every nth pixel will be selected for sampling. To determine if pixel[i,j] is that nth pixel, do\n",
    "# index = j*width + i to get the pixel index, then mod that value by n. If index % n = 0, you are on that pixel.\n",
    "\n",
    "#inputs are image and percentage\n",
    "\n",
    "def smartPost(image, percentage, fileName):\n",
    "\n",
    "    pixels = image.load()\n",
    "\n",
    "    random.seed(a=100)\n",
    "    k = 100   #we would have a loop and iterate k\n",
    "\n",
    "    skip = int(1 / np.sqrt(percentage))\n",
    "    count = 0\n",
    "    size = np.ceil(image.size[0] / skip) * np.ceil(image.size[1] / skip)\n",
    "    df_pixels = pd.DataFrame(columns=list('RGB'), index = np.arange(size))\n",
    "\n",
    "    for i in range(0, image.size[0], skip):\n",
    "        for j in range(0, image.size[1], skip):\n",
    "            i_ = i + random.randint(-3,3)\n",
    "            if i_>=image.size[0]:\n",
    "                i_ = image.size[0] - 1\n",
    "            if i_<0:\n",
    "                i_ = 0\n",
    "            j_ = j + random.randint(-3,3)\n",
    "            if j_>=image.size[1]:\n",
    "                j_ = image.size[1] - 1\n",
    "            if j_<0:\n",
    "                j_ = 0\n",
    "                \n",
    "            df_pixels.iloc[[count]] = [[pixels[i_,j_][0], pixels[i_,j_][1], pixels[i_,j_][2]]]\n",
    "            count = count + 1\n",
    "\n",
    "    kmeans = KMeans(n_clusters=100, random_state=1) #k\n",
    "    kmeans.fit(df_pixels) #run on df_pixels\n",
    "    variance = \n",
    "    joblib.dump(kmeans, 'kmeans.pkl')\n",
    "    kmeans_loaded = joblib.load('kmeans.pkl')\n",
    "    kmeans_loaded\n",
    "\n",
    "    for i in range(0, image.size[0]):\n",
    "        for j in range(0, image.size[1]):\n",
    "            predicted = kmeans_loaded.predict([[pixels[i,j][0], pixels[i,j][1], pixels[i,j][2]]])\n",
    "            pixels[i,j] = (round(kmeans.cluster_centers_[predicted][0][0]), round(kmeans.cluster_centers_[predicted][0][1]), round(kmeans.cluster_centers_[predicted][0][2]))\n",
    "    \n",
    "    saveLocation = fileName.replace(\"Inputs\",\"Outputs\")\n",
    "\n",
    "    image.save(saveLocation, format=\"png\")"
   ]
  },
  {
   "cell_type": "code",
   "execution_count": 8,
   "metadata": {},
   "outputs": [],
   "source": [
    "percentage = 0.10\n",
    "\n",
    "currDir = 'Inputs/Landscapes' \n",
    "for filename in os.listdir(currDir):\n",
    "    if filename.endswith(\".png\"):\n",
    "        currImg = Image.open(str(currDir)+'/'+str(filename))\n",
    "        smartPost(currImg, percentage, str(currDir)+'/'+str(filename))\n",
    "\n",
    "currDir = 'Inputs/Animals' \n",
    "for filename in os.listdir(currDir):\n",
    "    if filename.endswith(\".png\"):\n",
    "        currImg = Image.open(str(currDir)+'/'+str(filename))\n",
    "        smartPost(currImg, percentage, str(currDir)+'/'+str(filename))\n",
    "\n",
    "currDir = 'Inputs/Cars' \n",
    "for filename in os.listdir(currDir):\n",
    "    if filename.endswith(\".png\"):\n",
    "        currImg = Image.open(str(currDir)+'/'+str(filename))\n",
    "        smartPost(currImg, percentage, str(currDir)+'/'+str(filename))"
   ]
  }
 ],
 "metadata": {
  "colab": {
   "name": "3C. Retrieval Practice and Learning.ipynb",
   "provenance": []
  },
  "kernelspec": {
   "display_name": "Python 3",
   "language": "python",
   "name": "python3"
  },
  "language_info": {
   "codemirror_mode": {
    "name": "ipython",
    "version": 3
   },
   "file_extension": ".py",
   "mimetype": "text/x-python",
   "name": "python",
   "nbconvert_exporter": "python",
   "pygments_lexer": "ipython3",
   "version": "3.8.8"
  }
 },
 "nbformat": 4,
 "nbformat_minor": 4
}
