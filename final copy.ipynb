{
 "cells": [
  {
   "cell_type": "markdown",
   "metadata": {
    "colab_type": "text",
    "id": "1aPshrzKvAlN"
   },
   "source": [
    "# Image Posterization using K-means Clustering Algorithm"
   ]
  },
  {
   "cell_type": "code",
   "execution_count": null,
   "metadata": {},
   "outputs": [],
   "source": [
    "#import PIL as pil\n",
    "from PIL import Image\n",
    "from skimage import io\n",
    "import numpy as np\n",
    "import pandas as pd\n",
    "import random\n",
    "import matplotlib.pyplot as plt\n",
    "%matplotlib inline\n",
    "import seaborn as sns\n",
    "import sklearn\n",
    "from sklearn.preprocessing import StandardScaler\n",
    "from sklearn.cluster import KMeans\n",
    "from sklearn import metrics\n",
    "from sklearn.cluster import AgglomerativeClustering\n",
    "import joblib"
   ]
  },
  {
   "cell_type": "markdown",
   "metadata": {},
   "source": [
    "Image compression will be in a method that takes an image and a percentage of pixels to sample. The outputs will be the k selected and the compressed image."
   ]
  },
  {
   "cell_type": "code",
   "execution_count": null,
   "metadata": {},
   "outputs": [],
   "source": [
    "driving = Image.open(\"driving.png\")"
   ]
  },
  {
   "cell_type": "code",
   "execution_count": null,
   "metadata": {},
   "outputs": [],
   "source": [
    "#How to decide which pixels are selected:\n",
    "#If the number of pixels to be sampled is 100*k, then divide the number of pixels in the image by that value. Call\n",
    "#the result n. Every nth pixel will be selected for sampling. To determine if pixel[i,j] is that nth pixel, do\n",
    "# index = j*width + i to get the pixel index, then mod that value by n. If index % n = 0, you are on that pixel.\n",
    "\n",
    "#inputs are image and percentage\n",
    "\n",
    "drivingOriginal = driving\n",
    "percentage = 0.10  #originally 0.02\n",
    "pixels = driving.load()\n",
    "\n",
    "#toSample = 10000\n",
    "random.seed(a=100) # the random seed should not be based on system time\n",
    "k = 100   #we would have a loop and iterate k\n",
    "\n",
    "skip = int(1 / np.sqrt(percentage))\n",
    "count = 0\n",
    "size = np.ceil(driving.size[0] / skip) * np.ceil(driving.size[1] / skip)\n",
    "df_pixels = pd.DataFrame(columns=list('RGB'), index = np.arange(size))\n",
    "\n",
    "for i in range(0, driving.size[0], skip):\n",
    "    for j in range(0, driving.size[1], skip):\n",
    "        i_ = i + random.randint(-3,3)\n",
    "        if i_>=driving.size[0]:\n",
    "            i_ = driving.size[0] - 1\n",
    "        if i_<0:\n",
    "            i_ = 0\n",
    "        j_ = j + random.randint(-3,3)\n",
    "        if j_>=driving.size[1]:\n",
    "            j_ = driving.size[1] - 1\n",
    "        if j_<0:\n",
    "            j_ = 0\n",
    "            \n",
    "        df_pixels.iloc[[count]] = [[pixels[i_,j_][0], pixels[i_,j_][1], pixels[i_,j_][2]]]\n",
    "        #pixels[i_,j_] = (255,255,255)\n",
    "        count = count + 1\n",
    "driving"
   ]
  },
  {
   "cell_type": "code",
   "execution_count": null,
   "metadata": {},
   "outputs": [],
   "source": [
    "df_pixels"
   ]
  },
  {
   "cell_type": "markdown",
   "metadata": {},
   "source": [
    "Now that we have the RGB values of the sampled pixels in the dataset, we run K-means Clustering.\n",
    "Options: different distance calculations. Euclidean and manhattan and some other one.\n",
    "Do not force the centers."
   ]
  },
  {
   "cell_type": "code",
   "execution_count": null,
   "metadata": {},
   "outputs": [],
   "source": [
    "kmeans = KMeans(n_clusters=100) #k\n",
    "kmeans.fit(df_pixels) #run on df_pixels\n",
    "\n",
    "kmeans.labels_"
   ]
  },
  {
   "cell_type": "code",
   "execution_count": null,
   "metadata": {},
   "outputs": [],
   "source": [
    "joblib.dump(kmeans, 'kmeans.pkl')\n",
    "kmeans_loaded = joblib.load('kmeans.pkl')\n",
    "\n",
    "#predicted = kmeans_loaded.predict([[161,67,19]])"
   ]
  },
  {
   "cell_type": "code",
   "execution_count": null,
   "metadata": {},
   "outputs": [],
   "source": [
    "#print(str(int(kmeans.cluster_centers_[predicted][0][0])) + '    ' + str(kmeans.cluster_centers_[predicted][0])+'     '+str(pixels[0,0]))"
   ]
  },
  {
   "cell_type": "code",
   "execution_count": null,
   "metadata": {},
   "outputs": [],
   "source": [
    "#loop through whole image, predict the group that a pixel belongs in,\n",
    "#switch the color of the pixel to it's cluster center, record the difference to keep track of variance within groups.\n",
    "for i in range(0, driving.size[0]):\n",
    "    for j in range(0, driving.size[1]):\n",
    "        predicted = kmeans_loaded.predict([[pixels[i,j][0], pixels[i,j][1], pixels[i,j][2]]])\n",
    "        pixels[i,j] = (round(kmeans.cluster_centers_[predicted][0][0]), round(kmeans.cluster_centers_[predicted][0][1]), round(kmeans.cluster_centers_[predicted][0][2]))\n",
    "\n",
    "driving"
   ]
  },
  {
   "cell_type": "code",
   "execution_count": null,
   "metadata": {},
   "outputs": [],
   "source": [
    "driving.save(\"compressed.png\", format=\"png\")\n",
    "print(\"Hello from the other END\")"
   ]
  }
 ],
 "metadata": {
  "colab": {
   "name": "3C. Retrieval Practice and Learning.ipynb",
   "provenance": []
  },
  "kernelspec": {
   "display_name": "Python 3",
   "language": "python",
   "name": "python3"
  },
  "language_info": {
   "codemirror_mode": {
    "name": "ipython",
    "version": 3
   },
   "file_extension": ".py",
   "mimetype": "text/x-python",
   "name": "python",
   "nbconvert_exporter": "python",
   "pygments_lexer": "ipython3",
   "version": "3.8.8"
  }
 },
 "nbformat": 4,
 "nbformat_minor": 4
}
